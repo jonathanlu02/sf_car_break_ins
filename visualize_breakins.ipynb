{
 "cells": [
  {
   "cell_type": "code",
   "execution_count": 1,
   "id": "5814c38f",
   "metadata": {},
   "outputs": [],
   "source": [
    "import os\n",
    "import pandas as pd\n",
    "import sqlite3 as sql\n",
    "import gmaps"
   ]
  },
  {
   "cell_type": "code",
   "execution_count": 2,
   "id": "e0a2b616",
   "metadata": {},
   "outputs": [],
   "source": [
    "# make sure to export your API key to shell start up (e.g. ~/.bash_profile)\n",
    "gmaps.configure(api_key=os.environ[\"GOOGLE_API_KEY\"])"
   ]
  },
  {
   "cell_type": "markdown",
   "id": "de9b389d",
   "metadata": {},
   "source": [
    "# 1. Load in data"
   ]
  },
  {
   "cell_type": "code",
   "execution_count": 3,
   "id": "3ed236ac",
   "metadata": {},
   "outputs": [],
   "source": [
    "data = pd.read_csv('Data/Police_Department_Incident_Reports__2018_to_Present.csv')\n",
    "conn = sql.connect(\"policeDB.db\")\n",
    "#data.to_sql('police', conn)"
   ]
  },
  {
   "cell_type": "code",
   "execution_count": 4,
   "id": "d28abe9a",
   "metadata": {},
   "outputs": [
    {
     "data": {
      "text/plain": [
       "Index(['Incident Datetime', 'Incident Date', 'Incident Time', 'Incident Year',\n",
       "       'Incident Day of Week', 'Report Datetime', 'Row ID', 'Incident ID',\n",
       "       'Incident Number', 'CAD Number', 'Report Type Code',\n",
       "       'Report Type Description', 'Filed Online', 'Incident Code',\n",
       "       'Incident Category', 'Incident Subcategory', 'Incident Description',\n",
       "       'Resolution', 'Intersection', 'CNN', 'Police District',\n",
       "       'Analysis Neighborhood', 'Supervisor District', 'Latitude', 'Longitude',\n",
       "       'Point', 'Neighborhoods', 'ESNCAG - Boundary File',\n",
       "       'Central Market/Tenderloin Boundary Polygon - Updated',\n",
       "       'Civic Center Harm Reduction Project Boundary',\n",
       "       'HSOC Zones as of 2018-06-05', 'Invest In Neighborhoods (IIN) Areas',\n",
       "       'Current Supervisor Districts', 'Current Police Districts'],\n",
       "      dtype='object')"
      ]
     },
     "execution_count": 4,
     "metadata": {},
     "output_type": "execute_result"
    }
   ],
   "source": [
    "data.columns"
   ]
  },
  {
   "cell_type": "markdown",
   "id": "50d84786",
   "metadata": {},
   "source": [
    "# 2. Some SQL to process data"
   ]
  },
  {
   "cell_type": "code",
   "execution_count": 53,
   "id": "d1c75790",
   "metadata": {},
   "outputs": [
    {
     "data": {
      "text/plain": [
       "<sqlite3.Cursor at 0x7ff70a0edf80>"
      ]
     },
     "execution_count": 53,
     "metadata": {},
     "output_type": "execute_result"
    }
   ],
   "source": [
    "# 1. using cursor method\n",
    "cursor = conn.cursor()\n",
    "x = ('Larceny - From Vehicle',)  # encapsulate to protect from sql injection attacks\n",
    "sql_query = '''SELECT Latitude, Longitude FROM police WHERE police.'Incident Subcategory'=?'''\n",
    "cursor.execute(sql_query, x)"
   ]
  },
  {
   "cell_type": "code",
   "execution_count": 54,
   "id": "da3e6347",
   "metadata": {},
   "outputs": [
    {
     "name": "stdout",
     "output_type": "stream",
     "text": [
      "94627\n"
     ]
    }
   ],
   "source": [
    "print(len(cursor.fetchall()))\n",
    "cursor.close()"
   ]
  },
  {
   "cell_type": "code",
   "execution_count": 5,
   "id": "7485cb34",
   "metadata": {},
   "outputs": [],
   "source": [
    "# 2. or using Pandas\n",
    "sql_query = '''SELECT Latitude, Longitude FROM police WHERE police.'Incident Subcategory'='Larceny - From Vehicle' '''\n",
    "locations_theft = pd.read_sql(sql_query, conn)"
   ]
  },
  {
   "cell_type": "code",
   "execution_count": 6,
   "id": "95a93f40",
   "metadata": {},
   "outputs": [],
   "source": [
    "# remove NaN values\n",
    "locations_theft.dropna(inplace=True)"
   ]
  },
  {
   "cell_type": "code",
   "execution_count": 7,
   "id": "68f4362b",
   "metadata": {},
   "outputs": [
    {
     "name": "stdout",
     "output_type": "stream",
     "text": [
      "(84731, 2)\n",
      "    Latitude   Longitude\n",
      "0  37.723944 -122.422830\n",
      "1  37.782488 -122.445821\n",
      "2  37.787087 -122.421560\n",
      "3  37.780615 -122.416138\n",
      "4  37.730037 -122.404593\n"
     ]
    }
   ],
   "source": [
    "print(locations_theft.shape)\n",
    "print(locations_theft.head(5))"
   ]
  },
  {
   "cell_type": "markdown",
   "id": "25ecfe86",
   "metadata": {},
   "source": [
    "# 3. Build Visualization with gmaps\n",
    "\n",
    "gmaps is built around idea of adding layers to base map"
   ]
  },
  {
   "cell_type": "code",
   "execution_count": 8,
   "id": "6650c5ac",
   "metadata": {},
   "outputs": [],
   "source": [
    "# jupyter nbextension enable --py gmaps\n",
    "fig = gmaps.figure(layout={\n",
    "        'width': '600px',\n",
    "        'height': '600px',\n",
    "        'padding': '3px',\n",
    "        'border': '1px solid black',\n",
    "        'map_type': 'HYBRID'}, \n",
    "        map_type='SATELLITE', center=(37.75,-122.45), zoom_level=12)  # base map"
   ]
  },
  {
   "cell_type": "code",
   "execution_count": 9,
   "id": "375829c6",
   "metadata": {},
   "outputs": [
    {
     "data": {
      "application/vnd.jupyter.widget-view+json": {
       "model_id": "9458774518564bcebe055c96df17acc2",
       "version_major": 2,
       "version_minor": 0
      },
      "text/plain": [
       "Figure(layout=FigureLayout(border='1px solid black', height='600px', padding='3px', width='600px'))"
      ]
     },
     "metadata": {},
     "output_type": "display_data"
    }
   ],
   "source": [
    "fig"
   ]
  },
  {
   "cell_type": "code",
   "execution_count": 10,
   "id": "c08f7554",
   "metadata": {},
   "outputs": [],
   "source": [
    "fig = gmaps.figure(layout={\n",
    "        'width': '600px',\n",
    "        'height': '600px',\n",
    "        'padding': '3px',\n",
    "        'border': '1px solid black',\n",
    "        'map_type': 'HYBRID'}, \n",
    "        map_type='SATELLITE', center=(37.75,-122.45), zoom_level=12)  # base map\n",
    "\n",
    "heatmap_layer = gmaps.heatmap_layer(locations_theft)\n",
    "\n",
    "heatmap_layer.max_intensity = 80\n",
    "heatmap_layer.point_radius = 8\n",
    "\n",
    "fig.add_layer(heatmap_layer)"
   ]
  },
  {
   "cell_type": "code",
   "execution_count": 11,
   "id": "7e2053fd",
   "metadata": {},
   "outputs": [
    {
     "data": {
      "application/vnd.jupyter.widget-view+json": {
       "model_id": "a27b0b2c39994f58adaadcba28a35266",
       "version_major": 2,
       "version_minor": 0
      },
      "text/plain": [
       "Figure(layout=FigureLayout(border='1px solid black', height='600px', padding='3px', width='600px'))"
      ]
     },
     "metadata": {},
     "output_type": "display_data"
    }
   ],
   "source": [
    "fig"
   ]
  },
  {
   "cell_type": "code",
   "execution_count": null,
   "id": "2c418819",
   "metadata": {},
   "outputs": [],
   "source": [
    "# next up, some marker locations of the high intensity areas."
   ]
  }
 ],
 "metadata": {
  "kernelspec": {
   "display_name": "Python 3 (ipykernel)",
   "language": "python",
   "name": "python3"
  },
  "language_info": {
   "codemirror_mode": {
    "name": "ipython",
    "version": 3
   },
   "file_extension": ".py",
   "mimetype": "text/x-python",
   "name": "python",
   "nbconvert_exporter": "python",
   "pygments_lexer": "ipython3",
   "version": "3.8.0"
  }
 },
 "nbformat": 4,
 "nbformat_minor": 5
}
