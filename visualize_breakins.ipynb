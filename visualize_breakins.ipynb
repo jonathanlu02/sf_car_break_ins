{
 "cells": [
  {
   "cell_type": "code",
   "execution_count": 5,
   "id": "5814c38f",
   "metadata": {},
   "outputs": [],
   "source": [
    "import pandas as pd\n",
    "import sqlite3 as sql"
   ]
  },
  {
   "cell_type": "markdown",
   "id": "de9b389d",
   "metadata": {},
   "source": [
    "# 1. Load in data"
   ]
  },
  {
   "cell_type": "code",
   "execution_count": 7,
   "id": "3ed236ac",
   "metadata": {},
   "outputs": [
    {
     "name": "stderr",
     "output_type": "stream",
     "text": [
      "/Library/Frameworks/Python.framework/Versions/3.8/lib/python3.8/site-packages/pandas/core/generic.py:2872: UserWarning: The spaces in these column names will not be changed. In pandas versions < 0.14, spaces were converted to underscores.\n",
      "  sql.to_sql(\n"
     ]
    }
   ],
   "source": [
    "data = pd.read_csv('Data/Police_Department_Incident_Reports__2018_to_Present.csv')\n",
    "conn = sql.connect(\"policeDB.db\")\n",
    "data.to_sql('police', conn)"
   ]
  },
  {
   "cell_type": "code",
   "execution_count": 8,
   "id": "d28abe9a",
   "metadata": {},
   "outputs": [
    {
     "data": {
      "text/plain": [
       "Index(['Incident Datetime', 'Incident Date', 'Incident Time', 'Incident Year',\n",
       "       'Incident Day of Week', 'Report Datetime', 'Row ID', 'Incident ID',\n",
       "       'Incident Number', 'CAD Number', 'Report Type Code',\n",
       "       'Report Type Description', 'Filed Online', 'Incident Code',\n",
       "       'Incident Category', 'Incident Subcategory', 'Incident Description',\n",
       "       'Resolution', 'Intersection', 'CNN', 'Police District',\n",
       "       'Analysis Neighborhood', 'Supervisor District', 'Latitude', 'Longitude',\n",
       "       'Point', 'Neighborhoods', 'ESNCAG - Boundary File',\n",
       "       'Central Market/Tenderloin Boundary Polygon - Updated',\n",
       "       'Civic Center Harm Reduction Project Boundary',\n",
       "       'HSOC Zones as of 2018-06-05', 'Invest In Neighborhoods (IIN) Areas',\n",
       "       'Current Supervisor Districts', 'Current Police Districts'],\n",
       "      dtype='object')"
      ]
     },
     "execution_count": 8,
     "metadata": {},
     "output_type": "execute_result"
    }
   ],
   "source": [
    "data.columns"
   ]
  },
  {
   "cell_type": "markdown",
   "id": "50d84786",
   "metadata": {},
   "source": [
    "# 2. Some SQL to process data"
   ]
  },
  {
   "cell_type": "code",
   "execution_count": 53,
   "id": "d1c75790",
   "metadata": {},
   "outputs": [
    {
     "data": {
      "text/plain": [
       "<sqlite3.Cursor at 0x7ff70a0edf80>"
      ]
     },
     "execution_count": 53,
     "metadata": {},
     "output_type": "execute_result"
    }
   ],
   "source": [
    "# 1. using cursor method\n",
    "cursor = conn.cursor()\n",
    "x = ('Larceny - From Vehicle',)  # encapsulate to protect from sql injection attacks\n",
    "sql_query = '''SELECT Latitude, Longitude FROM police WHERE police.'Incident Subcategory'=?'''\n",
    "cursor.execute(sql_query, x)"
   ]
  },
  {
   "cell_type": "code",
   "execution_count": 54,
   "id": "da3e6347",
   "metadata": {},
   "outputs": [
    {
     "name": "stdout",
     "output_type": "stream",
     "text": [
      "94627\n"
     ]
    }
   ],
   "source": [
    "print(len(cursor.fetchall()))\n",
    "cursor.close()"
   ]
  },
  {
   "cell_type": "code",
   "execution_count": 38,
   "id": "7485cb34",
   "metadata": {},
   "outputs": [],
   "source": [
    "# 2. or using Pandas\n",
    "sql_query = '''SELECT Latitude, Longitude FROM police WHERE police.'Incident Subcategory'='Larceny - From Vehicle' '''\n",
    "new_df = pd.read_sql(sql_query, conn)"
   ]
  },
  {
   "cell_type": "code",
   "execution_count": 40,
   "id": "68f4362b",
   "metadata": {},
   "outputs": [
    {
     "data": {
      "text/plain": [
       "(94627, 2)"
      ]
     },
     "execution_count": 40,
     "metadata": {},
     "output_type": "execute_result"
    }
   ],
   "source": [
    "new_df.shape"
   ]
  },
  {
   "cell_type": "code",
   "execution_count": null,
   "id": "5b4c9ed8",
   "metadata": {},
   "outputs": [],
   "source": []
  }
 ],
 "metadata": {
  "kernelspec": {
   "display_name": "Python 3 (ipykernel)",
   "language": "python",
   "name": "python3"
  },
  "language_info": {
   "codemirror_mode": {
    "name": "ipython",
    "version": 3
   },
   "file_extension": ".py",
   "mimetype": "text/x-python",
   "name": "python",
   "nbconvert_exporter": "python",
   "pygments_lexer": "ipython3",
   "version": "3.8.0"
  }
 },
 "nbformat": 4,
 "nbformat_minor": 5
}
